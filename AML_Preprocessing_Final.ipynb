{
  "nbformat": 4,
  "nbformat_minor": 0,
  "metadata": {
    "colab": {
      "provenance": []
    },
    "kernelspec": {
      "name": "python3",
      "display_name": "Python 3"
    },
    "language_info": {
      "name": "python"
    }
  },
  "cells": [
    {
      "cell_type": "code",
      "execution_count": null,
      "metadata": {
        "colab": {
          "base_uri": "https://localhost:8080/"
        },
        "id": "cO8-vAm-TAec",
        "outputId": "a05dbefd-5b0d-4c2c-df36-a3b27f6ae2cd"
      },
      "outputs": [
        {
          "output_type": "stream",
          "name": "stdout",
          "text": [
            "CSV file has been saved to /content/proccedpcap.csv\n"
          ]
        }
      ],
      "source": [
        "from scapy.all import rdpcap, IP, ICMP\n",
        "import pandas as pd\n",
        "import numpy as np\n",
        "\n",
        "# Load the pcap file\n",
        "packets = rdpcap('/content/Traffic pcap.pcap')\n",
        "\n",
        "# Initialize a list for packet data\n",
        "packet_data = []\n",
        "\n",
        "# Variables to keep track of the total forward and backward lengths\n",
        "total_fwd_length = 0\n",
        "total_bwd_length = 0\n",
        "\n",
        "# Iterate over packets and collect data\n",
        "for packet in packets:\n",
        "    if IP in packet and ICMP in packet:\n",
        "        ip = packet[IP]\n",
        "        icmp = packet[ICMP]\n",
        "        length = ip.len\n",
        "        seq = icmp.seq if hasattr(icmp, 'seq') else 0\n",
        "\n",
        "        # Update total lengths based on packet direction (assumed by src IP)\n",
        "        # This part of logic needs actual flow direction which is not provided in your request\n",
        "        # Here it assumes that the source IP '192.168.1.25' is the forward direction\n",
        "        if ip.src == '192.168.1.25':\n",
        "            total_fwd_length += length\n",
        "        else:\n",
        "            total_bwd_length += length\n",
        "\n",
        "        # Calculate some placeholder values for this example\n",
        "        # In practice, you need actual calculations based on the flow\n",
        "        fwd_header_length = 20  # Placeholder, usually the length of the IP header for ICMP\n",
        "        bwd_header_length = 20  # Same as above\n",
        "        flow_duration = 100  # Placeholder, you would calculate the actual flow duration\n",
        "        flow_packets_per_second = 10  # Placeholder, calculate based on actual flow duration\n",
        "        flow_iat_mean = 10  # Placeholder, calculate the mean inter-arrival time\n",
        "\n",
        "        packet_data.append({\n",
        "            'Time': packet.time,\n",
        "            'Source': ip.src,\n",
        "            'Destination': ip.dst,\n",
        "            'Protocol': ip.proto,\n",
        "            'Length': length,\n",
        "            'Info': f'Echo (ping) request id=0x{icmp.id:x}, seq={seq}, ttl={ip.ttl}',\n",
        "            'Src Port': seq,\n",
        "            'TTL': ip.ttl,\n",
        "            'Dst Port': 0,  # ICMP does not have a destination port\n",
        "            'Total Fwd Packet': 1,  # Placeholder\n",
        "            'Total Bwd packets': 1,  # Placeholder\n",
        "            'Fwd Header Length': fwd_header_length,\n",
        "            'Bwd Header Length': bwd_header_length,\n",
        "            'Fwd Packets/s': flow_packets_per_second,  # Placeholder\n",
        "            'Bwd Packets/s': flow_packets_per_second,  # Placeholder\n",
        "            'ACK Flag Count': 0,  # Not applicable for ICMP\n",
        "            'FWD Init Win Bytes': 0,  # Not applicable for ICMP\n",
        "            'Bwd Init Win Bytes': 0,  # Not applicable for ICMP\n",
        "            'Flow Duration': flow_duration,\n",
        "            'Total Length of Fwd Packet': total_fwd_length,\n",
        "            'Total Length of Bwd Packet': total_bwd_length,\n",
        "            'Fwd Packet Length Max': length,  # Placeholder, use actual max length\n",
        "            'Fwd Packet Length Min': length,  # Placeholder, use actual min length\n",
        "            'Fwd Packet Length Mean': length,  # Placeholder, use actual mean length\n",
        "            'Fwd Packet Length Std': 0,  # Placeholder, use actual std deviation\n",
        "            'Bwd Packet Length Max': length,  # Placeholder, use actual max length\n",
        "            'Bwd Packet Length Min': length,  # Placeholder, use actual min length\n",
        "            'Bwd Packet Length Mean': length,  # Placeholder, use actual mean length\n",
        "            'Bwd Packet Length Std': 0,  # Placeholder, use actual std deviation\n",
        "            'Flow Packets/s': flow_packets_per_second,  # Placeholder\n",
        "            'Flow IAT Mean': flow_iat_mean  # Placeholder\n",
        "        })\n",
        "\n",
        "# Create a DataFrame\n",
        "df = pd.DataFrame(packet_data)\n",
        "\n",
        "# Save DataFrame to CSV file\n",
        "output_csv_path = '/content/proccedpcap.csv'\n",
        "df.to_csv(output_csv_path, index=False)\n",
        "\n",
        "print(f'CSV file has been saved to {output_csv_path}')\n"
      ]
    },
    {
      "cell_type": "code",
      "source": [],
      "metadata": {
        "id": "xUstPI40TG_4"
      },
      "execution_count": null,
      "outputs": []
    }
  ]
}